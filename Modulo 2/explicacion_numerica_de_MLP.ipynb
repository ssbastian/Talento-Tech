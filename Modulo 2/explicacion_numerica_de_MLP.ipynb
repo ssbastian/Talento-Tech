{
  "nbformat": 4,
  "nbformat_minor": 0,
  "metadata": {
    "colab": {
      "provenance": []
    },
    "kernelspec": {
      "name": "python3",
      "display_name": "Python 3"
    },
    "language_info": {
      "name": "python"
    }
  },
  "cells": [
    {
      "cell_type": "markdown",
      "source": [
        "# explicacion_numerica_de_MLP\n",
        "\n",
        "Por:\n",
        "\n",
        "Andrés Felipe Escallón Portilla\n",
        "(21-junio-2024)\n",
        "\n",
        "*Referencias:\n",
        "\n",
        "- https://www.linkedin.com/posts/jeremyclondon_deeplearning-neuralnetworks-ai-activity-7171891528448008192-nulK/?utm_source=share&utm_medium=member_android\n",
        "\n",
        "- https://www.linkedin.com/posts/tom-yeh_deeplearning-llms-generativeai-activity-7161408843111956480-ujq0/\n",
        "\n",
        "- https://alfanotv.com/raspberry-pi/como-multiplicar-matrices-en-numpy-multiply-matmul/\n",
        "\n",
        "- https://www.linkedin.com/posts/jeremyclondon_deeplearning-neuralnetworks-ai-ugcPost-7174203548736319488-RM0S?utm_source=share&utm_medium=member_android"
      ],
      "metadata": {
        "id": "MWjj4BDkLMCl"
      }
    },
    {
      "cell_type": "code",
      "execution_count": 3,
      "metadata": {
        "colab": {
          "base_uri": "https://localhost:8080/"
        },
        "id": "SqCWL6OJQt4c",
        "outputId": "ea297ea9-c8b8-42ee-b411-1226b1c83e9b"
      },
      "outputs": [
        {
          "output_type": "stream",
          "name": "stdout",
          "text": [
            "\n",
            " W = \n",
            " [[ 1  1]\n",
            " [-1  1]]\n",
            "\n",
            " X = \n",
            " [[1 5 2]\n",
            " [2 4 2]]\n",
            "\n",
            " WX_1 = \n",
            " [[ 3  9  4]\n",
            " [ 1 -1  0]]\n",
            "\n",
            " WX_2 = \n",
            " [[ 3  9  4]\n",
            " [ 1 -1  0]]\n"
          ]
        }
      ],
      "source": [
        "import numpy as np\n",
        "\n",
        "array_1 = np.array(     [ [1, 1], [-1,1] ]   )\n",
        "\n",
        "\n",
        "W = np.array(     [ [1, 1], [-1,1] ]   )\n",
        "print(\"\\n W = \\n\", W)\n",
        "#print()\n",
        "\n",
        "\n",
        "array_2 = np.array (   [  [1, 5, 2],    [2, 4, 2] ]    )\n",
        "\n",
        "X = np.array (   [  [1, 5, 2],    [2, 4, 2] ]    )\n",
        "print(\"\\n X = \\n\",X)\n",
        "#print()\n",
        "\n",
        "WX_1 = np.dot(W,X)\n",
        "print(\"\\n WX_1 = \\n\",WX_1)\n",
        "#print()\n",
        "\n",
        "WX_2 = np.matmul(W,X)\n",
        "print(\"\\n WX_2 = \\n\",WX_2)\n",
        "#print()\n",
        "\n",
        "#XW = np.matmul(X,W)\n",
        "#print(XW)\n",
        "#print()\n",
        "# Lo anterior no funciona por lo siguiente:\n",
        "#X_(2,3) por W_(2,2) = Resultado_(2,2)?\n",
        "#porque el numero de columnas de X es diferente al numero de filas de W"
      ]
    },
    {
      "cell_type": "markdown",
      "source": [
        "\n",
        "```\n",
        "W_(2,2) por X_(2,3) = WX_(2,3)\n",
        "\n",
        "W*x + b = Z ---> Activation = output\n",
        "\n",
        "W_(3,4) por x_(4,5) = Z_(3,5)\n",
        "\n",
        "Asumiendo que todos los biases son cero y que NO hay función de activación (es decir: se deja pasar la misma información)\n",
        "\n",
        "```\n"
      ],
      "metadata": {
        "id": "SuZYq0Lkddvb"
      }
    },
    {
      "cell_type": "code",
      "source": [
        "W = np.array([   [1,1,0,-1], [-1,1,2,-3], [-1,1,5,0]  ])\n",
        "print(W)\n",
        "\n",
        "print()\n",
        "\n",
        "x = np.array([ [1,5,2,-1,0], [2,4,2,1,-1], [7,5,6,-1,1], [-8,0,4,-1,3] ])\n",
        "print(x)\n",
        "print()\n",
        "\n",
        "b = np.zeros((3, 5)) # suponer todos los valores de los biases en cero\n",
        "print(b)\n",
        "print()\n",
        "\n",
        "Z = np.matmul(W,x) + b\n",
        "print(Z)"
      ],
      "metadata": {
        "colab": {
          "base_uri": "https://localhost:8080/"
        },
        "id": "TX69FW1geISc",
        "outputId": "de5179cb-957d-41dc-be63-1ed192b10de4"
      },
      "execution_count": null,
      "outputs": [
        {
          "output_type": "stream",
          "name": "stdout",
          "text": [
            "[[ 1  1  0 -1]\n",
            " [-1  1  2 -3]\n",
            " [-1  1  5  0]]\n",
            "\n",
            "[[ 1  5  2 -1  0]\n",
            " [ 2  4  2  1 -1]\n",
            " [ 7  5  6 -1  1]\n",
            " [-8  0  4 -1  3]]\n",
            "\n",
            "[[0. 0. 0. 0. 0.]\n",
            " [0. 0. 0. 0. 0.]\n",
            " [0. 0. 0. 0. 0.]]\n",
            "\n",
            "[[11.  9.  0.  1. -4.]\n",
            " [39.  9.  0.  3. -8.]\n",
            " [36. 24. 30. -3.  4.]]\n"
          ]
        }
      ]
    },
    {
      "cell_type": "markdown",
      "source": [
        "# Explicación manual:\n",
        "\n",
        "```\n",
        "W =\n",
        "[[ 1  1]\n",
        " [-1  1]]\n",
        "\n",
        "x=\n",
        " [[1 5 2]\n",
        " [2 4 2]]\n",
        "\n",
        "Entonces:\n",
        "\n",
        "W*x + b:\n",
        "\n",
        "b=zeros\n",
        "W*x  + 0 = W*x = Z\n",
        "[[ 3  9  4]\n",
        " [ 1 -1  0]]\n",
        "\n",
        "Z-->relu-->A\n",
        "A=\n",
        "[[ 3  9  4]\n",
        " [ 1  0  0]]\n",
        "\n",
        "===============\n",
        "W*x =\n",
        "[[ 3  9  4]\n",
        " [ 1 -1  0]]\n",
        "\n",
        "+ b (b=ones)\n",
        "W*x + b:\n",
        "[[ 4  10  5]\n",
        " [ 2  0   1]]\n",
        "\n",
        "W*x + b = Z\n",
        "Z-->relu-->A\n",
        "\n",
        "A=\n",
        "[[ 4  10  5]\n",
        " [ 2  0   0]]\n",
        "\n",
        "=========================\n",
        "\n",
        "Comparar el resultado conocido (Supervisado)\n",
        "Supongamos que el resultado conocido es:\n",
        "Y_real=\n",
        "[[ 4  10  5]\n",
        " [ 2  0   0]]\n",
        "y sucedió que la red calculó y dio:\n",
        "A=Y_estimado\n",
        "[[ 4  10  5]\n",
        " [ 2  0   0]]\n",
        "\n",
        "Error(Y_real-Y_estimada)=?\n",
        "E=\n",
        "[[ 0  0  0]\n",
        " [ 0  0   0]]\n",
        "\n",
        "===============================================\n",
        "O supongamos que el resultado conocido debe ser:\n",
        "Y_real=\n",
        "[[ -3  6  2]\n",
        " [ 0   5 -1]]\n",
        "y sucedió que la red calculó y dio:\n",
        "\n",
        "A=Y_estimado\n",
        "[[ 4  10  5]\n",
        " [ 2  0   0]]\n",
        "\n",
        "Error(Y_real-Y_estimada)=?\n",
        "E=\n",
        "[[ -7  -4  -3]\n",
        " [ -2  5   -1]]\n",
        "\n",
        "\n",
        "```\n",
        "\n",
        "\n",
        "\n",
        "\n"
      ],
      "metadata": {
        "id": "ExgLywD0L79t"
      }
    },
    {
      "cell_type": "markdown",
      "source": [
        "# Operaciones correctas vs incorrectas:"
      ],
      "metadata": {
        "id": "shw0c-29L3SW"
      }
    },
    {
      "cell_type": "markdown",
      "source": [
        "## Si no se cumple lo dicho incialmente, entonces no se puede multiplicar matrices desde el procedimiento de algebra lineal:"
      ],
      "metadata": {
        "id": "1OC1MYgicKp3"
      }
    },
    {
      "cell_type": "markdown",
      "source": [
        "## \"*\" y multiply son para multiplicar elemento a elemento matrices del mismo tamaño = num_filas x num_columnas"
      ],
      "metadata": {
        "id": "p2GfQ6hGby69"
      }
    },
    {
      "cell_type": "code",
      "source": [
        "#array_r_bad1 = array_1 * array_2\n",
        "#print(array_r_bad1)\n",
        "\n",
        "np.array([1,1])*np.array([1,1,1])"
      ],
      "metadata": {
        "colab": {
          "base_uri": "https://localhost:8080/",
          "height": 181
        },
        "id": "7HsNHYN4VRFI",
        "outputId": "85a89aee-b4bf-4ca6-9122-efee85665698"
      },
      "execution_count": null,
      "outputs": [
        {
          "output_type": "error",
          "ename": "ValueError",
          "evalue": "operands could not be broadcast together with shapes (2,) (3,) ",
          "traceback": [
            "\u001b[0;31m---------------------------------------------------------------------------\u001b[0m",
            "\u001b[0;31mValueError\u001b[0m                                Traceback (most recent call last)",
            "\u001b[0;32m<ipython-input-23-55ff2e887d0b>\u001b[0m in \u001b[0;36m<cell line: 4>\u001b[0;34m()\u001b[0m\n\u001b[1;32m      2\u001b[0m \u001b[0;31m#print(array_r_bad1)\u001b[0m\u001b[0;34m\u001b[0m\u001b[0;34m\u001b[0m\u001b[0m\n\u001b[1;32m      3\u001b[0m \u001b[0;34m\u001b[0m\u001b[0m\n\u001b[0;32m----> 4\u001b[0;31m \u001b[0mnp\u001b[0m\u001b[0;34m.\u001b[0m\u001b[0marray\u001b[0m\u001b[0;34m(\u001b[0m\u001b[0;34m[\u001b[0m\u001b[0;36m1\u001b[0m\u001b[0;34m,\u001b[0m\u001b[0;36m1\u001b[0m\u001b[0;34m]\u001b[0m\u001b[0;34m)\u001b[0m\u001b[0;34m*\u001b[0m\u001b[0mnp\u001b[0m\u001b[0;34m.\u001b[0m\u001b[0marray\u001b[0m\u001b[0;34m(\u001b[0m\u001b[0;34m[\u001b[0m\u001b[0;36m1\u001b[0m\u001b[0;34m,\u001b[0m\u001b[0;36m1\u001b[0m\u001b[0;34m,\u001b[0m\u001b[0;36m1\u001b[0m\u001b[0;34m]\u001b[0m\u001b[0;34m)\u001b[0m\u001b[0;34m\u001b[0m\u001b[0;34m\u001b[0m\u001b[0m\n\u001b[0m",
            "\u001b[0;31mValueError\u001b[0m: operands could not be broadcast together with shapes (2,) (3,) "
          ]
        }
      ]
    },
    {
      "cell_type": "code",
      "source": [
        "print(np.array([2,4])*np.array([3,-5]))"
      ],
      "metadata": {
        "colab": {
          "base_uri": "https://localhost:8080/"
        },
        "id": "loh5iR8Bq5EP",
        "outputId": "93dde3a8-67fa-4420-9734-9f0058625a58"
      },
      "execution_count": null,
      "outputs": [
        {
          "output_type": "stream",
          "name": "stdout",
          "text": [
            "[  6 -20]\n"
          ]
        }
      ]
    },
    {
      "cell_type": "code",
      "source": [
        "np.multiply(np.array([2,4]), np.array([3,-5]))"
      ],
      "metadata": {
        "colab": {
          "base_uri": "https://localhost:8080/"
        },
        "id": "LAOwfr1_rKoS",
        "outputId": "1c27963b-dedf-4729-b046-a70cb5e9026e"
      },
      "execution_count": null,
      "outputs": [
        {
          "output_type": "execute_result",
          "data": {
            "text/plain": [
              "array([  6, -20])"
            ]
          },
          "metadata": {},
          "execution_count": 26
        }
      ]
    },
    {
      "cell_type": "code",
      "source": [
        "array_r_bad2 = array_2 * array_1\n",
        "print(array_r_bad2)"
      ],
      "metadata": {
        "id": "xrH3LBioVb4h"
      },
      "execution_count": null,
      "outputs": []
    },
    {
      "cell_type": "code",
      "source": [
        "mult3 = np.multiply(array_1,array_2)\n",
        "print(mult3)"
      ],
      "metadata": {
        "id": "A6viHqyUVdLr"
      },
      "execution_count": null,
      "outputs": []
    },
    {
      "cell_type": "markdown",
      "source": [
        "# HOMEWORK:\n",
        "\n",
        "# Ejemplo académico:\n",
        "\n",
        "Definiendo funciones en python para calcular:\n",
        "\n",
        " W x + b = Z --> relu ---> y"
      ],
      "metadata": {
        "id": "95iD-oV-g_nV"
      }
    },
    {
      "cell_type": "code",
      "source": [
        "def get_output_from_MLP_input(W,x,b,activation=\"linear\"):\n",
        "  #print(\"W = \",end='\\n')\n",
        "  #print(W)\n",
        "  print(f\"W = \\n {W} \\n\")\n",
        "  #print()\n",
        "\n",
        "  print(\"x = \",end='\\n')\n",
        "  print(x)\n",
        "  print(\"b = \",end='\\n')\n",
        "  print(b)\n",
        "  # arguments:\n",
        "  # W,x and b are arrays\n",
        "\n",
        "  # operations\n",
        "  # Z = W x  +  b\n",
        "  #Z = np.matmul(W,x) + b\n",
        "  Z = np.dot(W,x) + b\n",
        "\n",
        "  print(\"Z = \",end='\\n')\n",
        "  print(Z)\n",
        "\n",
        "  if activation==\"linear\":\n",
        "    y = Z\n",
        "\n",
        "  if activation==\"relu\":\n",
        "    # Ternary operator to define a relu function\n",
        "    #y = Z if Z>=0 else 0\n",
        "    #y = Z if Z>0 else 0\n",
        "    #y = 0 if Z<0 else Z\n",
        "    #y = 0 if Z<=0 else Z\n",
        "    y = np.array([0 if z<=0 else z for z in Z])\n",
        "  elif activation == \"sigmoid\":\n",
        "    y = 1/(1+np.exp(-Z))\n",
        "  elif activation == \"tanh\":\n",
        "    y = np.tanh(Z)\n",
        "  elif activation == \"others\":\n",
        "   raise ValueError(\"Unsupported activation function: {}\".format(activation))\n",
        "\n",
        "  print(\"y = \",end='\\n')\n",
        "  print(y)\n",
        "\n",
        "  return y"
      ],
      "metadata": {
        "id": "s3WmpyDyhRP-"
      },
      "execution_count": 6,
      "outputs": []
    },
    {
      "cell_type": "code",
      "source": [
        "# Testing (linear)\n",
        "\n",
        "W = np.array([ [1,-1,1]  , [1,1,0] ,  [0,1,1] ,  [1,0,1]    ])\n",
        "x = np.array([2, 1, 3])\n",
        "b = np.array([-5, 0, 1, -2])\n",
        "\n",
        "y = get_output_from_MLP_input(W,x,b)\n",
        "y"
      ],
      "metadata": {
        "colab": {
          "base_uri": "https://localhost:8080/"
        },
        "id": "DpdUinfI04x3",
        "outputId": "a48718fe-dd5c-47fd-e713-a294a50e719f"
      },
      "execution_count": null,
      "outputs": [
        {
          "output_type": "stream",
          "name": "stdout",
          "text": [
            "W = \n",
            " [[ 1 -1  1]\n",
            " [ 1  1  0]\n",
            " [ 0  1  1]\n",
            " [ 1  0  1]] \n",
            "\n",
            "x = \n",
            "[2 1 3]\n",
            "b = \n",
            "[-5  0  1 -2]\n",
            "Z = \n",
            "[-1  3  5  3]\n",
            "y = \n",
            "[-1  3  5  3]\n"
          ]
        },
        {
          "output_type": "execute_result",
          "data": {
            "text/plain": [
              "array([-1,  3,  5,  3])"
            ]
          },
          "metadata": {},
          "execution_count": 32
        }
      ]
    },
    {
      "cell_type": "code",
      "source": [
        "# Testing (linear)\n",
        "\n",
        "W = np.array([ [1,-1,1]  , [1,1,0] ,  [0,1,1] ,  [1,0,1]    ])\n",
        "x = np.array([2, 1, 3])\n",
        "b = np.array([-5, 0, 1, -2])\n",
        "\n",
        "y = get_output_from_MLP_input(W,x,b, activation=\"linear\")\n",
        "y"
      ],
      "metadata": {
        "colab": {
          "base_uri": "https://localhost:8080/"
        },
        "id": "mS1WQwkn09eY",
        "outputId": "1316f282-54b3-4e62-ddca-21e1a1f22bff"
      },
      "execution_count": null,
      "outputs": [
        {
          "output_type": "stream",
          "name": "stdout",
          "text": [
            "W = \n",
            " [[ 1 -1  1]\n",
            " [ 1  1  0]\n",
            " [ 0  1  1]\n",
            " [ 1  0  1]] \n",
            "\n",
            "x = \n",
            "[2 1 3]\n",
            "b = \n",
            "[-5  0  1 -2]\n",
            "Z = \n",
            "[-1  3  5  3]\n",
            "y = \n",
            "[-1  3  5  3]\n"
          ]
        },
        {
          "output_type": "execute_result",
          "data": {
            "text/plain": [
              "array([-1,  3,  5,  3])"
            ]
          },
          "metadata": {},
          "execution_count": 33
        }
      ]
    },
    {
      "cell_type": "code",
      "source": [
        "# Testing (relu)\n",
        "\n",
        "W = np.array([ [1,-1,1]  , [1,1,0] ,  [0,1,1] ,  [1,0,1]    ])\n",
        "x = np.array([2, 1, 3])\n",
        "b = np.array([-5, 0, 1, -2])\n",
        "\n",
        "y = get_output_from_MLP_input(W,x,b,\"relu\")\n",
        "y"
      ],
      "metadata": {
        "colab": {
          "base_uri": "https://localhost:8080/"
        },
        "id": "T7bYrs1Gj3m8",
        "outputId": "42198850-bc17-4893-97dc-d21349c53db0"
      },
      "execution_count": null,
      "outputs": [
        {
          "output_type": "stream",
          "name": "stdout",
          "text": [
            "W = \n",
            " [[ 1 -1  1]\n",
            " [ 1  1  0]\n",
            " [ 0  1  1]\n",
            " [ 1  0  1]] \n",
            "\n",
            "x = \n",
            "[2 1 3]\n",
            "b = \n",
            "[-5  0  1 -2]\n",
            "Z = \n",
            "[-1  3  5  3]\n",
            "y = \n",
            "[0 3 5 3]\n"
          ]
        },
        {
          "output_type": "execute_result",
          "data": {
            "text/plain": [
              "array([0, 3, 5, 3])"
            ]
          },
          "metadata": {},
          "execution_count": 34
        }
      ]
    },
    {
      "cell_type": "markdown",
      "source": [
        "# Ojo: la multiplicacion entre matrices en general NO es conmutativa\n",
        "\n",
        "AB=C en general es distinto de BA=D\n",
        "\n",
        "(suponiendo que por las dimensiones se puedan operar)\n",
        "\n",
        "Ejemplo: al intercambiar Wx con xW hay error"
      ],
      "metadata": {
        "id": "BKBnAxFOp0OU"
      }
    },
    {
      "cell_type": "code",
      "source": [
        "y = get_output_from_MLP_input(x,W,b)"
      ],
      "metadata": {
        "colab": {
          "base_uri": "https://localhost:8080/",
          "height": 468
        },
        "id": "re38UP9XpUPZ",
        "outputId": "81cda774-528c-4f32-af84-4b4fe7213959"
      },
      "execution_count": null,
      "outputs": [
        {
          "output_type": "stream",
          "name": "stdout",
          "text": [
            "W = \n",
            " [2 1 3] \n",
            "\n",
            "x = \n",
            "[[ 1 -1  1]\n",
            " [ 1  1  0]\n",
            " [ 0  1  1]\n",
            " [ 1  0  1]]\n",
            "b = \n",
            "[-5  0  1 -2]\n"
          ]
        },
        {
          "output_type": "error",
          "ename": "ValueError",
          "evalue": "matmul: Input operand 1 has a mismatch in its core dimension 0, with gufunc signature (n?,k),(k,m?)->(n?,m?) (size 4 is different from 3)",
          "traceback": [
            "\u001b[0;31m---------------------------------------------------------------------------\u001b[0m",
            "\u001b[0;31mValueError\u001b[0m                                Traceback (most recent call last)",
            "\u001b[0;32m<ipython-input-22-518e1907d1f0>\u001b[0m in \u001b[0;36m<cell line: 1>\u001b[0;34m()\u001b[0m\n\u001b[0;32m----> 1\u001b[0;31m \u001b[0my\u001b[0m \u001b[0;34m=\u001b[0m \u001b[0mget_output_from_MLP_input\u001b[0m\u001b[0;34m(\u001b[0m\u001b[0mx\u001b[0m\u001b[0;34m,\u001b[0m\u001b[0mW\u001b[0m\u001b[0;34m,\u001b[0m\u001b[0mb\u001b[0m\u001b[0;34m)\u001b[0m\u001b[0;34m\u001b[0m\u001b[0;34m\u001b[0m\u001b[0m\n\u001b[0m",
            "\u001b[0;32m<ipython-input-20-5668e6dfd815>\u001b[0m in \u001b[0;36mget_output_from_MLP_input\u001b[0;34m(W, x, b)\u001b[0m\n\u001b[1;32m     14\u001b[0m   \u001b[0;31m# operations\u001b[0m\u001b[0;34m\u001b[0m\u001b[0;34m\u001b[0m\u001b[0m\n\u001b[1;32m     15\u001b[0m   \u001b[0;31m# Z = W x  +  b\u001b[0m\u001b[0;34m\u001b[0m\u001b[0;34m\u001b[0m\u001b[0m\n\u001b[0;32m---> 16\u001b[0;31m   \u001b[0mZ\u001b[0m \u001b[0;34m=\u001b[0m \u001b[0mnp\u001b[0m\u001b[0;34m.\u001b[0m\u001b[0mmatmul\u001b[0m\u001b[0;34m(\u001b[0m\u001b[0mW\u001b[0m\u001b[0;34m,\u001b[0m\u001b[0mx\u001b[0m\u001b[0;34m)\u001b[0m \u001b[0;34m+\u001b[0m \u001b[0mb\u001b[0m\u001b[0;34m\u001b[0m\u001b[0;34m\u001b[0m\u001b[0m\n\u001b[0m\u001b[1;32m     17\u001b[0m   \u001b[0mprint\u001b[0m\u001b[0;34m(\u001b[0m\u001b[0;34m\"Z = \"\u001b[0m\u001b[0;34m,\u001b[0m\u001b[0mend\u001b[0m\u001b[0;34m=\u001b[0m\u001b[0;34m'\\n'\u001b[0m\u001b[0;34m)\u001b[0m\u001b[0;34m\u001b[0m\u001b[0;34m\u001b[0m\u001b[0m\n\u001b[1;32m     18\u001b[0m   \u001b[0mprint\u001b[0m\u001b[0;34m(\u001b[0m\u001b[0mZ\u001b[0m\u001b[0;34m)\u001b[0m\u001b[0;34m\u001b[0m\u001b[0;34m\u001b[0m\u001b[0m\n",
            "\u001b[0;31mValueError\u001b[0m: matmul: Input operand 1 has a mismatch in its core dimension 0, with gufunc signature (n?,k),(k,m?)->(n?,m?) (size 4 is different from 3)"
          ]
        }
      ]
    }
  ]
}